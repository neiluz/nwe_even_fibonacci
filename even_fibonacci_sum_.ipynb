{
  "nbformat": 4,
  "nbformat_minor": 0,
  "metadata": {
    "colab": {
      "provenance": [],
      "machine_shape": "hm",
      "gpuType": "A100",
      "authorship_tag": "ABX9TyP3n7eoThfzeEkWLQAv5HXD",
      "include_colab_link": true
    },
    "kernelspec": {
      "name": "python3",
      "display_name": "Python 3"
    },
    "language_info": {
      "name": "python"
    },
    "accelerator": "GPU"
  },
  "cells": [
    {
      "cell_type": "markdown",
      "metadata": {
        "id": "view-in-github",
        "colab_type": "text"
      },
      "source": [
        "<a href=\"https://colab.research.google.com/github/neiluz/nwe_even_fibonacci/blob/main/even_fibonacci_sum_.ipynb\" target=\"_parent\"><img src=\"https://colab.research.google.com/assets/colab-badge.svg\" alt=\"Open In Colab\"/></a>"
      ]
    },
    {
      "cell_type": "markdown",
      "source": [
        "# Even fibonacci"
      ],
      "metadata": {
        "id": "RGVER_Ndg0El"
      }
    },
    {
      "cell_type": "markdown",
      "source": [
        "**Even Fibonacci**\n",
        "Cada nuevo término de la secuencia de Fibonacci se genera sumando los dos términos anteriores. Al comenzar con 1 y 2, los primeros 10 términos serán:\n",
        "\n",
        "1, 2, 3, 5, 8, 13, 21, 34, 55, 89, ...\n",
        "\n",
        "Al considerar los términos en la secuencia de Fibonacci cuyos valores no exceden los cuatro millones, encuentre la suma de los términos pares."
      ],
      "metadata": {
        "id": "9LnzeGfdg2RP"
      }
    },
    {
      "cell_type": "code",
      "execution_count": 5,
      "metadata": {
        "id": "0oCRVp1vbtxF"
      },
      "outputs": [],
      "source": [
        "def even_fibonacci_sum ():\n",
        "  prev = 1\n",
        "  curr = 2\n",
        "  total_sum = 0\n",
        "\n",
        "  while curr <= 4000000:\n",
        "    if curr % 2 == 0:\n",
        "      total_sum += curr\n",
        "  \n",
        "    prev, curr = curr, prev + curr\n",
        "\n",
        "  return total_sum"
      ]
    },
    {
      "cell_type": "code",
      "source": [
        "result = even_fibonacci_sum()"
      ],
      "metadata": {
        "id": "2T9eT2fmheaZ"
      },
      "execution_count": 6,
      "outputs": []
    },
    {
      "cell_type": "code",
      "source": [
        "print (result)"
      ],
      "metadata": {
        "colab": {
          "base_uri": "https://localhost:8080/"
        },
        "id": "Bry_XZ3T2n1n",
        "outputId": "0be68730-56bf-4350-e126-59dc1164fc67"
      },
      "execution_count": 7,
      "outputs": [
        {
          "output_type": "stream",
          "name": "stdout",
          "text": [
            "4613732\n"
          ]
        }
      ]
    },
    {
      "cell_type": "code",
      "source": [
        "import json\n",
        "\n",
        "resulta_data = {\n",
        "    \"even_fibonacci_sum\" : result\n",
        "}\n",
        "\n",
        "with open (\"prediction.json\", \"w\") as file:\n",
        "  json.dump (resulta_data, file)"
      ],
      "metadata": {
        "id": "HqSI_RVEhmit"
      },
      "execution_count": 8,
      "outputs": []
    }
  ]
}